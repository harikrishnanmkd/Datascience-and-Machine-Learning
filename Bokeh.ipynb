{
 "cells": [
  {
   "cell_type": "code",
   "execution_count": 1,
   "metadata": {
    "collapsed": true
   },
   "outputs": [],
   "source": [
    "# importing the modules\n",
    "from bokeh.plotting import figure, output_file, show\n",
    "  \n",
    "# instantiating the figure object\n",
    "graph = figure(title=\"Bokeh Line Graph\")\n",
    "  \n",
    "# the points to be plotted\n",
    "x = [1, 2, 3, 4, 5]\n",
    "y = [5, 4, 3, 2, 1]\n",
    "  \n",
    "# plotting the 1st line graph\n",
    "graph.line(x, x, legend_label=\"Line 1\")\n",
    "  \n",
    "# plotting the 2nd line graph with a\n",
    "# different color\n",
    "graph.line(y, x, legend_label=\"Line 2\",\n",
    "           line_color=\"green\")\n",
    "  \n",
    "# displaying the model\n",
    "show(graph)\n"
   ]
  },
  {
   "cell_type": "code",
   "execution_count": null,
   "metadata": {
    "collapsed": true
   },
   "outputs": [],
   "source": []
  },
  {
   "cell_type": "code",
   "execution_count": null,
   "metadata": {
    "collapsed": true
   },
   "outputs": [],
   "source": []
  }
 ],
 "metadata": {
  "kernelspec": {
   "display_name": "Python 3",
   "language": "python",
   "name": "python3"
  },
  "language_info": {
   "codemirror_mode": {
    "name": "ipython",
    "version": 3
   },
   "file_extension": ".py",
   "mimetype": "text/x-python",
   "name": "python",
   "nbconvert_exporter": "python",
   "pygments_lexer": "ipython3",
   "version": "3.6.3"
  }
 },
 "nbformat": 4,
 "nbformat_minor": 2
}
