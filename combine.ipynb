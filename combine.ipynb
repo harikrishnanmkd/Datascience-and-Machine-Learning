{
 "cells": [
  {
   "cell_type": "code",
   "execution_count": 8,
   "metadata": {},
   "outputs": [
    {
     "ename": "SyntaxError",
     "evalue": "unexpected character after line continuation character (<ipython-input-8-8d170855cd74>, line 48)",
     "output_type": "error",
     "traceback": [
      "\u001b[0;36m  File \u001b[0;32m\"<ipython-input-8-8d170855cd74>\"\u001b[0;36m, line \u001b[0;32m48\u001b[0m\n\u001b[0;31m    plt.suptitle('Combined Graphs in a single plot'\\n, fontsize=9)\u001b[0m\n\u001b[0m                                                                  ^\u001b[0m\n\u001b[0;31mSyntaxError\u001b[0m\u001b[0;31m:\u001b[0m unexpected character after line continuation character\n"
     ]
    }
   ],
   "source": [
    "import matplotlib.pyplot as plt\n",
    "import numpy as np\n",
    " \n",
    "# Sample data\n",
    "data = [2, 3, 3, 4, 5, 5, 5, 6, 6, 7, 7, 7, 7, 8, 9]\n",
    " \n",
    "# Set a larger figure size\n",
    "plt.figure(figsize=(10, 7))\n",
    " \n",
    "# Plot histogram\n",
    "plt.subplot(2, 2, 1)\n",
    "plt.hist(data, bins=5, edgecolor='black')\n",
    "plt.xlabel('Value')\n",
    "plt.ylabel('Frequency')\n",
    "plt.title('Histogram')\n",
    " \n",
    "# Plot pie chart\n",
    "labels = ['A', 'B', 'C', 'D', 'E']\n",
    "sizes = [10, 35, 45, 30, 5]\n",
    " \n",
    "plt.subplot(2, 2, 2)\n",
    "plt.pie(sizes, labels=labels, autopct='%1.1f%%', startangle=140)\n",
    "plt.axis('equal')  # Equal aspect ratio ensures that pie is drawn as a circle.\n",
    "plt.title('Pie Chart')\n",
    " \n",
    "# Plot line graph\n",
    "x = np.linspace(0, 10, 100)\n",
    "y = np.sin(x)\n",
    " \n",
    "plt.subplot(2, 2, 3)\n",
    "plt.plot(x, y, color='red')\n",
    "plt.xlabel('X')\n",
    "plt.ylabel('Y')\n",
    "plt.title('Line Graph')\n",
    " \n",
    "# Generate data for the scatter plot\n",
    "x_scatter = np.random.rand(50)\n",
    "y_scatter = np.random.rand(50)\n",
    " \n",
    "# Plot scatter plot\n",
    "plt.subplot(2, 2, 4)\n",
    "plt.scatter(x_scatter, y_scatter, color='green', marker='o')\n",
    "plt.xlabel('X')\n",
    "plt.ylabel('Y')\n",
    "plt.title('Scatter Plot')\n",
    " \n",
    "# Set a larger font size for the super title\n",
    "plt.suptitle('Combined Graphs in a single plot', fontsize=9)\n",
    " \n",
    "# Adjust layout\n",
    "plt.tight_layout()\n",
    " \n",
    "# Display the plot\n",
    "plt.show()\n"
   ]
  },
  {
   "cell_type": "code",
   "execution_count": null,
   "metadata": {
    "collapsed": true
   },
   "outputs": [],
   "source": []
  }
 ],
 "metadata": {
  "kernelspec": {
   "display_name": "Python 3",
   "language": "python",
   "name": "python3"
  },
  "language_info": {
   "codemirror_mode": {
    "name": "ipython",
    "version": 3
   },
   "file_extension": ".py",
   "mimetype": "text/x-python",
   "name": "python",
   "nbconvert_exporter": "python",
   "pygments_lexer": "ipython3",
   "version": "3.6.3"
  }
 },
 "nbformat": 4,
 "nbformat_minor": 2
}
